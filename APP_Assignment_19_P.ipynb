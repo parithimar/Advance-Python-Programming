{
  "nbformat": 4,
  "nbformat_minor": 0,
  "metadata": {
    "colab": {
      "name": "APP_Assignment 19 P.ipynb",
      "provenance": []
    },
    "kernelspec": {
      "name": "python3",
      "display_name": "Python 3"
    },
    "language_info": {
      "name": "python"
    }
  },
  "cells": [
    {
      "cell_type": "markdown",
      "metadata": {
        "id": "le5pV2ztOtkq"
      },
      "source": [
        "##1. Create a checker board generator, which takes as inputs n and 2 elements to generate an n x n checkerboard with those two elements as alternating squares.\n"
      ]
    },
    {
      "cell_type": "code",
      "metadata": {
        "id": "P9VbPdBgOplp",
        "colab": {
          "base_uri": "https://localhost:8080/"
        },
        "outputId": "0501e8b7-03d0-4821-861d-1e47f67ba55f"
      },
      "source": [
        "import numpy as np\n",
        "def checker_board(n, a, b):\n",
        "    try:\n",
        "      final = []\n",
        "      has = b\n",
        "      for i in range(n):\n",
        "        sub = []\n",
        "        for j in range(n):\n",
        "          if has == a:\n",
        "            sub.append(b)\n",
        "          else:\n",
        "            sub.append(a)\n",
        "          has = sub[-1]\n",
        "        final.append(sub)\n",
        "    except Exception as e:\n",
        "      print(e)\n",
        "    else:\n",
        "      return final\n",
        "  \n",
        "  \n",
        "checker_board(3,1,0)"
      ],
      "execution_count": 5,
      "outputs": [
        {
          "output_type": "execute_result",
          "data": {
            "text/plain": [
              "[[1, 0, 1], [0, 1, 0], [1, 0, 1]]"
            ]
          },
          "metadata": {
            "tags": []
          },
          "execution_count": 5
        }
      ]
    },
    {
      "cell_type": "markdown",
      "metadata": {
        "id": "-uV2P0ECOy5n"
      },
      "source": [
        "##2. A string is an almost-palindrome if, by changing only one character, you can make it a palindrome. Create a function that returns True if a string is an almost-palindrome and False otherwise.\n"
      ]
    },
    {
      "cell_type": "code",
      "metadata": {
        "colab": {
          "base_uri": "https://localhost:8080/"
        },
        "id": "UT9sgqo6O5_b",
        "outputId": "5aed66c8-b5d7-4a98-e73b-d11b5fd4f709"
      },
      "source": [
        "def almost_palindrome(p):\n",
        "  try:\n",
        "    n = len(p)\n",
        "    count = 0\n",
        "    for i in range(0, int(n / 2)):\n",
        "        if (p[i] != p[n - i - 1]):\n",
        "            count = count + 1\n",
        "  except Exception as e:\n",
        "    print(e)\n",
        "  else:\n",
        "    return True if count <= 1 else False\n",
        "almost_palindrome('abccia')"
      ],
      "execution_count": 8,
      "outputs": [
        {
          "output_type": "execute_result",
          "data": {
            "text/plain": [
              "True"
            ]
          },
          "metadata": {
            "tags": []
          },
          "execution_count": 8
        }
      ]
    },
    {
      "cell_type": "code",
      "metadata": {
        "colab": {
          "base_uri": "https://localhost:8080/"
        },
        "id": "KiBAA6OXn3H8",
        "outputId": "987ae778-52ee-4898-c1f2-562b5a6e32dc"
      },
      "source": [
        "def almost_palindromes(str):\n",
        "  \n",
        "  length = len(str)\n",
        "  a, b = 0, length-1\n",
        "  total = 0\n",
        "  \n",
        "  while (a < length):\n",
        "    if (str[a] != str[b]): total += 1 \n",
        "    a += 1 \n",
        "    b -= 1\n",
        "    \n",
        "  return total \n",
        "\n",
        "a = 'fox'\n",
        "b = 'abcdcaa'\n",
        "c = 'aaabbb'\n",
        "print(almost_palindromes(a), almost_palindromes(b), almost_palindromes(c))"
      ],
      "execution_count": null,
      "outputs": [
        {
          "output_type": "stream",
          "text": [
            "2 2 6\n"
          ],
          "name": "stdout"
        }
      ]
    },
    {
      "cell_type": "markdown",
      "metadata": {
        "id": "f9J_9LDnO1Cx"
      },
      "source": [
        "##3. Create a function that finds how many prime numbers there are, up to the given integer.\n"
      ]
    },
    {
      "cell_type": "code",
      "metadata": {
        "colab": {
          "base_uri": "https://localhost:8080/"
        },
        "id": "FYmMRy9qO9VK",
        "outputId": "48372f1e-7fee-44b8-937a-101d67174873"
      },
      "source": [
        "def prime_numbers(n):\n",
        "  try:\n",
        "    primeCount = 0\n",
        "    if n > 1:\n",
        "      for i in range(2,n):\n",
        "        flag = True\n",
        "        for j in range(2,i):\n",
        "          if i % j == 0:\n",
        "            flag = False\n",
        "        if flag:\n",
        "           primeCount += 1\n",
        "  except Exception as e:\n",
        "    print(e)\n",
        "  else:\n",
        "    return primeCount\n",
        "\n",
        "prime_numbers(30)"
      ],
      "execution_count": null,
      "outputs": [
        {
          "output_type": "execute_result",
          "data": {
            "text/plain": [
              "10"
            ]
          },
          "metadata": {
            "tags": []
          },
          "execution_count": 5
        }
      ]
    },
    {
      "cell_type": "markdown",
      "metadata": {
        "id": "3MRH9rw2SJOO"
      },
      "source": [
        "##4. If today was Monday, in two days, it would be Wednesday.\n",
        "\n",
        "Create a function that takes in a list of days as input and the number of days to increment by. Return a list of days after n number of days has passed.\n"
      ]
    },
    {
      "cell_type": "code",
      "metadata": {
        "colab": {
          "base_uri": "https://localhost:8080/"
        },
        "id": "xKKpvqeXSKLv",
        "outputId": "274175ff-26fe-408e-decf-7de36bfc49b1"
      },
      "source": [
        "def after_n_days(days, n):\n",
        "  try:\n",
        "    weekdays = ['Sunday', 'Monday', 'Tuesday', 'Wednesday', 'Thursday', 'Friday', 'Saturday']\n",
        "    for i, v in enumerate(days):\n",
        "      days[i] = weekdays[(weekdays.index(v) + n) % 7]\n",
        "  except Exception as e:\n",
        "    print(e)\n",
        "  else:\n",
        "    return days\n",
        "\n",
        "after_n_days([\"Monday\", \"Tuesday\", \"Friday\"], 1) "
      ],
      "execution_count": null,
      "outputs": [
        {
          "output_type": "execute_result",
          "data": {
            "text/plain": [
              "['Tuesday', 'Wednesday', 'Saturday']"
            ]
          },
          "metadata": {
            "tags": []
          },
          "execution_count": 16
        }
      ]
    },
    {
      "cell_type": "markdown",
      "metadata": {
        "id": "Uor0iszNUkWN"
      },
      "source": [
        "##5. You are in the process of creating a chat application and want to add an anonymous name feature. This anonymous name feature will create an alias that consists of two capitalized words beginning with the same letter as the users first name.\n",
        "\n",
        "Create a function that determines if the list of users is mapped to a list of anonymous names correctly.\n"
      ]
    },
    {
      "cell_type": "code",
      "metadata": {
        "colab": {
          "base_uri": "https://localhost:8080/"
        },
        "id": "ZCKXDnPZUlhh",
        "outputId": "824e9df3-4723-45d6-8cf6-3abbcf7ad0bf"
      },
      "source": [
        "def is_correct_aliases(name, alias):\n",
        "  try:\n",
        "    is_correct = True\n",
        "    for i, v in zip(name, alias):\n",
        "      first = i[0]\n",
        "      splitted = v.split()\n",
        "      if first == splitted[0][0] and first == splitted[-1][0]:\n",
        "        is_correct = True\n",
        "      else:\n",
        "        is_correct = False\n",
        "        break\n",
        "  except Exception as e:\n",
        "    print(e)\n",
        "  else:\n",
        "    return is_correct\n",
        "\n",
        "is_correct_aliases([\"Beth T.\"], [\"Brandishing Mimosa\"]) "
      ],
      "execution_count": null,
      "outputs": [
        {
          "output_type": "execute_result",
          "data": {
            "text/plain": [
              "False"
            ]
          },
          "metadata": {
            "tags": []
          },
          "execution_count": 22
        }
      ]
    }
  ]
}