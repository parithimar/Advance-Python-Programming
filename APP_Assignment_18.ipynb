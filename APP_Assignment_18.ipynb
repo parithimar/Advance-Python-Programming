{
  "nbformat": 4,
  "nbformat_minor": 0,
  "metadata": {
    "colab": {
      "name": "APP_Assignment 18.ipynb",
      "provenance": []
    },
    "kernelspec": {
      "name": "python3",
      "display_name": "Python 3"
    },
    "language_info": {
      "name": "python"
    }
  },
  "cells": [
    {
      "cell_type": "markdown",
      "metadata": {
        "id": "Ce6zIFmQHzCn"
      },
      "source": [
        "##1. A robot has been given a list of movement instructions. Each instruction is either left, right, up or down, followed by a distance to move. The robot starts at [0, 0]. You want to calculate where the robot will end up and return its final position as a list.\n",
        "\n",
        "To illustrate, if the robot is given the following instructions:\n",
        "\n",
        "[\"right 10\", \"up 50\", \"left 30\", \"down 10\"]\n",
        "\n",
        "It will end up 20 left and 40 up from where it started, so we return [-20, 40].\n"
      ]
    },
    {
      "cell_type": "code",
      "metadata": {
        "colab": {
          "base_uri": "https://localhost:8080/"
        },
        "id": "4kjdo6UWHlvs",
        "outputId": "666b6da0-9dd2-4fca-9736-38bb81b59782"
      },
      "source": [
        "def track_robot(l):\n",
        "  try:\n",
        "    dest = [0, 0]\n",
        "    for i in l:\n",
        "      splitted = i.split()\n",
        "      if splitted[0] == 'left':\n",
        "        dest[0] -= int(splitted[1])\n",
        "      elif splitted[0] == 'right':\n",
        "        dest[0] += int(splitted[1])\n",
        "      elif splitted[0] == 'up':\n",
        "        dest[1] += int(splitted[1])\n",
        "      elif splitted[0] == 'down':\n",
        "        dest[1] -= int(splitted[1])\n",
        "\n",
        "  except Exception as e:\n",
        "    print(e)\n",
        "  else:\n",
        "    return dest\n",
        "\n",
        "track_robot([\"right 100\", \"right 100\", \"up 500\", \"up 10000\"]) "
      ],
      "execution_count": null,
      "outputs": [
        {
          "output_type": "execute_result",
          "data": {
            "text/plain": [
              "[200, 10500]"
            ]
          },
          "metadata": {
            "tags": []
          },
          "execution_count": 5
        }
      ]
    },
    {
      "cell_type": "markdown",
      "metadata": {
        "id": "TetoBeYeJpT9"
      },
      "source": [
        "##2. Write a function that will return the longest word in a sentence. In cases where more than one word is found, return the first one.\n"
      ]
    },
    {
      "cell_type": "code",
      "metadata": {
        "colab": {
          "base_uri": "https://localhost:8080/",
          "height": 35
        },
        "id": "VoCPzjYzI7KT",
        "outputId": "c233348b-2942-4670-e19d-d3c6e35940df"
      },
      "source": [
        "def find_longest(st):\n",
        "  try:\n",
        "    longest = ''\n",
        "    for i in st.split():\n",
        "      if len(i) > len(longest):\n",
        "        longest = i\n",
        "  except Exception as e:\n",
        "    print(e)\n",
        "  else:\n",
        "    return longest\n",
        "find_longest(\"Forgetfulness is by all means powerless!\") "
      ],
      "execution_count": null,
      "outputs": [
        {
          "output_type": "execute_result",
          "data": {
            "application/vnd.google.colaboratory.intrinsic+json": {
              "type": "string"
            },
            "text/plain": [
              "'Forgetfulness'"
            ]
          },
          "metadata": {
            "tags": []
          },
          "execution_count": 9
        }
      ]
    },
    {
      "cell_type": "markdown",
      "metadata": {
        "id": "8TYyIl7hftvA"
      },
      "source": [
        "##3. Create a function to check if a candidate is qualified in an imaginary coding interview of an imaginary tech startup.\n",
        "\n",
        "The criteria for a candidate to be qualified in the coding interview is:\n",
        "\n",
        "   1. The candidate should have complete all the questions.\n",
        "   2. The maximum time given to complete the interview is 120 minutes.\n",
        "   3. The maximum time given for very easy questions is 5 minutes each.\n",
        "   4. The maximum time given for easy questions is 10 minutes each.\n",
        "   5. The maximum time given for medium questions is 15 minutes each.\n",
        "   6. The maximum time given for hard questions is 20 minutes each.\n",
        "\n",
        "If all the above conditions are satisfied, return \"qualified\", else return \"disqualified\".\n",
        "\n",
        "You will be given a list of time taken by a candidate to solve a particular question and the total time taken by the candidate to complete the interview.\n",
        "\n",
        "Given a list , in a true condition will always be in the format [very easy, very easy, easy, easy, medium, medium, hard, hard].\n",
        "\n",
        "The maximum time to complete the interview includes a buffer time of 20 minutes.\n"
      ]
    },
    {
      "cell_type": "code",
      "metadata": {
        "colab": {
          "base_uri": "https://localhost:8080/",
          "height": 35
        },
        "id": "RcHXfyH2f3i5",
        "outputId": "8b3131c5-f39f-4558-b426-292366b56abe"
      },
      "source": [
        "def interview(xmTime, totTime):\n",
        "  try:\n",
        "    allotedTime = [5, 5, 10, 10, 15, 15, 20, 20]\n",
        "    maxTime = 120\n",
        "    result = False\n",
        "    if len(xmTime) == len(allotedTime):\n",
        "      \n",
        "      for i in range(len(allotedTime)):\n",
        "        if xmTime[i] > allotedTime[i]:\n",
        "          result = False\n",
        "          break\n",
        "        else:\n",
        "          result = True\n",
        "      if sum(xmTime) > totTime or totTime > maxTime:\n",
        "        result = False\n",
        "      \n",
        "  except Exception as e:\n",
        "    print(e)\n",
        "  else:\n",
        "    return 'qualify' if result else 'disqualify'\n",
        "interview([5, 5, 10, 10, 15, 15, 20, 20], 120) "
      ],
      "execution_count": 16,
      "outputs": [
        {
          "output_type": "execute_result",
          "data": {
            "application/vnd.google.colaboratory.intrinsic+json": {
              "type": "string"
            },
            "text/plain": [
              "'qualify'"
            ]
          },
          "metadata": {
            "tags": []
          },
          "execution_count": 16
        }
      ]
    },
    {
      "cell_type": "markdown",
      "metadata": {
        "id": "5ZpZgUCK9_9i"
      },
      "source": [
        "##4. Write a function that divides a list into chunks of size n, where n is the length of each chunk."
      ]
    },
    {
      "cell_type": "code",
      "metadata": {
        "colab": {
          "base_uri": "https://localhost:8080/"
        },
        "id": "lOFxB3aU-BWO",
        "outputId": "0c8afcc6-34dd-47cd-84a9-997481d86c9d"
      },
      "source": [
        "\n",
        "def chunkify(l, n):\n",
        "  try:\n",
        "    finalList = []\n",
        "    c = 0\n",
        "    leap = len(l)//n \n",
        "    for i in range(leap):\n",
        "      if leap >= len(l):\n",
        "        finalList.append(l[c:c + n]) \n",
        "        c += n\n",
        "      else:\n",
        "        finalList.append(l[c:c + leap])\n",
        "        c += leap\n",
        "    if len(l) > c:\n",
        "      finalList.append(l[c:])\n",
        "  except Exception as e:\n",
        "    print(e)\n",
        "  else:\n",
        "    return finalList\n",
        "chunkify([2, 3, 4, 5, 6], 2)\n"
      ],
      "execution_count": null,
      "outputs": [
        {
          "output_type": "execute_result",
          "data": {
            "text/plain": [
              "[[2, 3], [4, 5], [6]]"
            ]
          },
          "metadata": {
            "tags": []
          },
          "execution_count": 26
        }
      ]
    },
    {
      "cell_type": "markdown",
      "metadata": {
        "id": "EOZllwzmaUbw"
      },
      "source": [
        "##5. You are given a list of strings consisting of grocery items, with prices in parentheses. Return a list of prices in float format.\n"
      ]
    },
    {
      "cell_type": "code",
      "metadata": {
        "colab": {
          "base_uri": "https://localhost:8080/"
        },
        "id": "Ks77mTwgaVfE",
        "outputId": "f70c14e9-3fb6-4e57-e2eb-0d6f2efef6b4"
      },
      "source": [
        "def get_prices(ls):\n",
        "  try:\n",
        "    priceList = []\n",
        "    for i in ls:\n",
        "      splitted = i.split('$')\n",
        "      priceList.append(splitted[-1][:-1])\n",
        "  except Exception as e:\n",
        "    print(e)\n",
        "  else:\n",
        "    return priceList\n",
        "get_prices([\n",
        "  \"ice cream ($5.99)\",\n",
        "  \"banana ($0.20)\",\n",
        "  \"sandwich ($8.50)\",\n",
        "  \"soup ($1.99)\"\n",
        "])\n"
      ],
      "execution_count": null,
      "outputs": [
        {
          "output_type": "execute_result",
          "data": {
            "text/plain": [
              "['5.99', '0.20', '8.50', '1.99']"
            ]
          },
          "metadata": {
            "tags": []
          },
          "execution_count": 14
        }
      ]
    }
  ]
}